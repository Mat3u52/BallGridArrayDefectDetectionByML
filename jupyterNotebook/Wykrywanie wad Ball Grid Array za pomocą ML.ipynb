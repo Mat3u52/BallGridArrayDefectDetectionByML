{
 "cells": [
  {
   "cell_type": "markdown",
   "id": "417e46b1-18c6-4619-8a80-e7328d3791c0",
   "metadata": {},
   "source": [
    "# Wykrywanie wad Ball Grid Array za pomocą ML\n",
    "\n",
    "### Rozpoznanie defektu typu void dla układu \"Ball Grid Array\" przy pomocy machine learning.\n",
    "\n",
    "IPC-A-610, zatytułowany „Akceptowalność zespołów elektronicznych”, jest powszechnie uznawanym standardem w branży elektronicznej, który zapewnia kompleksowe kryteria akceptacji zespołów elektronicznych, w tym tych wykorzystujących komponenty Ball Grid Array (BGA).\n",
    "\n",
    "Jeśli chodzi o BGA, IPC-A-610 zajmuje się kilkoma krytycznymi aspektami, aby zapewnić jakość montażu:\n",
    "\n",
    "Jakość połączenia lutowanego: Norma określa akceptowalne warunki dla połączeń lutowanych BGA, skupiając się na takich czynnikach, jak przesunięcie kulki lutowniczej, kształt i obecność pustych przestrzeni. Na przykład IPC-A-610F definiuje, że kulka BGA jest akceptowalna dla klas 1, 2 i 3, jeśli jej powierzchnia pusta jest mniejsza niż 30% powierzchni kuli w 2D kontroli rentgenowskiej.\n",
    "\n",
    "Inspekcja i testowanie: Norma określa zalecane techniki inspekcji, takie jak analiza rentgenowska, w celu oceny integralności połączeń lutowanych BGA i wykrywania potencjalnych wad, takich jak pustki lub nieprawidłowe ustawienie.\n",
    "\n",
    "Przestrzeganie kryteriów IPC-A-610 dla zespołów BGA pomaga zapewnić niezawodność i wydajność produktu, co jest szczególnie ważne w zastosowaniach wymagających wysokiej jakości zespołów elektronicznych.\n",
    "\n",
    "PCB:\n",
    "<img src=\"https://static.wixstatic.com/media/74cd3b_773e6cd81fb1433e972e27dbf33c53bd~mv2_d_4000_3000_s_4_2.jpg\" alt=\"PCB\" width=\"200\">\n",
    "- Źródło: [regulus-ems.com](https://www.regulus-ems.com/leaded-pcb-assembly)\n",
    "\n",
    "BGA:\n",
    "<img src=\"https://www.fs-pcba.com/wp-content/uploads/2022/12/1-9.jpg\" alt=\"BGA\" width=\"200\">\n",
    "- Źródło: [madpcb.com](https://madpcb.com/glossary/pbga/)\n",
    "\n",
    "\n",
    "BGA solder ball:\n",
    "<img src=\"https://epp-europe-news.com/wp-content/uploads/3/6/3603682.jpg\" alt=\"Ball\" width=\"200\">\n",
    "\n",
    "Źródło: [epp-europe-news.com](https://epp-europe-news.com/technology/applications/proper-inspection-strategy/)\n",
    "\n",
    "\n",
    "X-Ray image:\n",
    "\n",
    "| Przykład dobrych połączeń                                                                                                                      | Przykład wadliwych połączeń                                                                                                                      |\n",
    "|------------------------------------------------------------------------------------------------------------------------------------------------|--------------------------------------------------------------------------------------------------------------------------------------------------|\n",
    "| <img src=\"https://github.com/Mat3u52/BallGridArrayDefectDetectionByML/blob/main/examples/good_image.jpg?raw=true\" alt=\"Good BGA\" width=\"200\">  | <img src=\"https://github.com/Mat3u52/BallGridArrayDefectDetectionByML/blob/main/examples/not_good_image.jpg?raw=true\" alt=\"Bad BGA\" width=\"200\"> |\n",
    "| <img src=\"https://github.com/Mat3u52/BallGridArrayDefectDetectionByML/blob/main/examples/single_good_ball.png?raw=true\" alt=\"Good BGA\" width=\"200\">  | <img src=\"https://github.com/Mat3u52/BallGridArrayDefectDetectionByML/blob/main/examples/single_not_good_ball.png?raw=true\" alt=\"Good BGA\" width=\"200\"> |\n",
    "\n",
    "\n"
   ]
  },
  {
   "cell_type": "markdown",
   "id": "ed281608-bfa9-4b13-9c1d-e60603b2d672",
   "metadata": {},
   "source": [
    "## 1. Przygotowanie zestawu danych"
   ]
  },
  {
   "cell_type": "markdown",
   "id": "243879f0-f751-4fdb-850c-b626a80f8b0e",
   "metadata": {},
   "source": [
    "### Import potrzebnych bibliotek"
   ]
  },
  {
   "cell_type": "code",
   "execution_count": null,
   "id": "1804b301-7fb1-4df6-b0ea-fb686c69bd3b",
   "metadata": {},
   "outputs": [],
   "source": [
    "import os\n",
    "import sys\n",
    "import random\n",
    "import cv2\n",
    "import shutil\n",
    "import csv\n",
    "import pandas as pd\n",
    "import numpy as np\n",
    "import matplotlib.pyplot as plt\n",
    "from matplotlib.colors import ListedColormap\n",
    "from zipfile import ZipFile\n",
    "from typing import List\n",
    "from PIL import Image"
   ]
  },
  {
   "cell_type": "markdown",
   "id": "3c3e6b35-4399-413d-b8e0-8305c1340cc8",
   "metadata": {},
   "source": [
    "### Informacje o pliku „Dataset.zip”\n",
    "Przygotowana paczka zawiera zestaw plików w różnych formatach, w tym obrazy ATG układu BGA po montażu zapisane w formacie .png.\n",
    ".\r\n",
    "      \n",
    "\n"
   ]
  },
  {
   "cell_type": "code",
   "execution_count": null,
   "id": "dbfff169-25b2-4628-b76f-3e4b1b4093b8",
   "metadata": {},
   "outputs": [],
   "source": [
    "def print_zip_summary(zip_path: str) -> None:\n",
    "    \"\"\"\n",
    "    Prints a summary of the contents of a ZIP file.\n",
    "\n",
    "    Given the path to a ZIP file, this function opens the file in read-only mode,\n",
    "    retrieves a list of all the files contained within it, and prints a summary of the ZIP file.\n",
    "    Specifically, it displays:\n",
    "    - The base name of the ZIP file.\n",
    "    - The file size of the ZIP archive in bytes.\n",
    "    - The total number of files contained within the archive.\n",
    "    - A list of the last 5 files in the archive, if the archive contains that many.\n",
    "      If the ZIP archive has fewer than 5 files, it will print all of them.\n",
    "\n",
    "    :param zip_path: str, the path to the ZIP file to summarize.\n",
    "    :return: None\n",
    "    \"\"\"\n",
    "    with ZipFile(zip_path, 'r') as zip_file:\n",
    "        files: List[str] = zip_file.namelist()\n",
    "\n",
    "        print(f\"File name: {os.path.basename(zip_path)}\")\n",
    "        print(f\"File size: {os.path.getsize(zip_path)}\")\n",
    "        print(f\"Total files in ZIP: {len(files)}\")\n",
    "        print(\"Last 5 files in ZIP:\")\n",
    "\n",
    "        for file_name in files[-5:]:\n",
    "            print(file_name)"
   ]
  },
  {
   "cell_type": "markdown",
   "id": "d7baf633-3b67-4e5e-97a5-113993b2003d",
   "metadata": {},
   "source": [
    "  - Metoda \"print_zip_summary\":\r\n",
    "  \r\n",
    "          Podsumowanie zawartości pliku ZIP.\r\n",
    "          Po podaniu ścieżki do pliku ZIP ta funkcja otwiera plik w trybie tylko do odczytu,\r\n",
    "          pobiera listę wszystkich plików w nim zawartych i wyświetla podsumowanie pliku ZIP.\r\n",
    "          \r\n",
    "          W szczególności wyświetla:\r\n",
    "            Nazwę bazową pliku ZIP. \r\n",
    "            Rozmiar pliku archiwum ZIP w bajtach.\r\n",
    "            Całkowitą liczbę plików zawartych w archiwum.\r\n",
    "            Listę ostatnich 5 plików w archiwum. Jeśli archiwum ZIP zawiera mniej niż 5 plików, wydrukuje je wszystkie.\r\n",
    "      "
   ]
  },
  {
   "cell_type": "code",
   "execution_count": null,
   "id": "58c6429d-0b77-47d2-b455-aed783f83325",
   "metadata": {
    "scrolled": true
   },
   "outputs": [],
   "source": [
    "# general information of .zip file\n",
    "print_zip_summary('Dataset.zip')"
   ]
  },
  {
   "cell_type": "markdown",
   "id": "5ca3566d-e975-4a9a-ae50-fc5d85663fd4",
   "metadata": {},
   "source": [
    "### Wypakowanie zawartości pliku ZIP"
   ]
  },
  {
   "cell_type": "code",
   "execution_count": null,
   "id": "69b11dc2-a9f1-4cf8-b3c2-2e9cdc436a9c",
   "metadata": {},
   "outputs": [],
   "source": [
    "def unzip_precess(zip_path: str, zip_path_dist: str) -> None:\n",
    "    \"\"\"\n",
    "    Extracts files from a zip archive to a specified directory, showing extraction progress.\n",
    "\n",
    "    :param zip_path: str, The path to the zip file to extract.\n",
    "    :param zip_path_dist: str, The directory path where the contents of the zip file will be extracted.\n",
    "    :return: None\n",
    "    \"\"\"\n",
    "    if os.path.isfile(zip_path) and not os.path.isdir(zip_path_dist):\n",
    "        with ZipFile(zip_path) as zip_file:\n",
    "            files_list: List[str] = zip_file.namelist()\n",
    "            for idx, file in enumerate(files_list):\n",
    "                percent = round((idx / len(files_list)) * 100)\n",
    "                sys.stdout.write(f\"\\runzip process: {percent}%\")\n",
    "                sys.stdout.flush()\n",
    "                zip_file.extract(file, zip_path_dist)\n",
    "            zip_file.close()\n",
    "            sys.stdout.write(\"\\runzip process: 100%\\n\")\n",
    "            sys.stdout.flush()"
   ]
  },
  {
   "cell_type": "markdown",
   "id": "e0bb0282-c794-4efb-b5bb-8870d412b3a2",
   "metadata": {},
   "source": [
    "\n",
    "  - Metoda \"unzip_precess\":\n",
    "        \n",
    "        Wypakowuje pliki z archiwum ZIP do określonego katalogu, pokazując postęp wypakowywania.\n",
    "  "
   ]
  },
  {
   "cell_type": "markdown",
   "id": "63de8e3d-bc67-4317-b8f6-43e72f3f9f9d",
   "metadata": {},
   "source": [
    "*Przed wywołaniem metody „unzip_process” w Jupyter Notebook warto zmodyfikować plik „jupyter_notebook_config” i dodać linię „c.ServerApp.iopub_msg_rate_limit = 50000”, w przeciwnym razie notebook zwróci komunikat „IOPub message rate exceeded…”.*"
   ]
  },
  {
   "cell_type": "code",
   "execution_count": null,
   "id": "7a227ce8-bb0d-43da-864a-3ed0d7e14d56",
   "metadata": {},
   "outputs": [],
   "source": [
    "    # unzipping\n",
    "    unzip_precess('Dataset.zip', 'UnzippedDataset')"
   ]
  },
  {
   "cell_type": "markdown",
   "id": "ade1bac7-f31a-43f2-ba53-9d1394dbe155",
   "metadata": {},
   "source": [
    "### Sprawdzenie zawartości katalogu \"UnzippedDataset\""
   ]
  },
  {
   "cell_type": "code",
   "execution_count": null,
   "id": "69172a62-2867-41d0-b07b-9fe03e501cc8",
   "metadata": {},
   "outputs": [],
   "source": [
    "def tree(directory: str, file_range: int = -5, indent: int = 0) -> None:\n",
    "    \"\"\"\n",
    "    Recursively lists the contents of a directory in a structured, hierarchical format.\n",
    "\n",
    "    :param directory: str, path to directory.\n",
    "    :param file_range: int, amount of samples.\n",
    "    :param indent: int, space iterator.\n",
    "    :return: None.\n",
    "    \"\"\"\n",
    "    try:\n",
    "        entries: list[str] = os.listdir(directory)\n",
    "\n",
    "        dir_entries: list[str] = [e for e in entries if os.path.isdir(os.path.join(directory, e))]\n",
    "        file_entries: list[str] = [e for e in entries if os.path.isfile(os.path.join(directory, e))][file_range:]\n",
    "\n",
    "        for d in dir_entries:\n",
    "            print(\"    \" * indent + f\"[Directory] {d}/\")\n",
    "            tree(os.path.join(directory, d), file_range, indent + 1)\n",
    "\n",
    "        for f in file_entries:\n",
    "            if f[-4:] != '.png':\n",
    "                print(\"    \" * indent + f\"[other file] - {f} [note]The file should be removed {os.path.join(directory, f)}\")\n",
    "            else:\n",
    "                print(\"    \" * indent + f\"[png file] - {f}\")\n",
    "\n",
    "    except FileNotFoundError:\n",
    "        print(f\"Error: Directory '{directory}' not found.\")\n",
    "    except PermissionError:\n",
    "        print(f\"Error: Permission denied for directory '{directory}'.\")"
   ]
  },
  {
   "cell_type": "markdown",
   "id": "05ff5f48-252e-463b-b0bd-e76108d2e1d5",
   "metadata": {},
   "source": [
    "  - Metoda \"tree\":\n",
    "  \n",
    "        Rekurencyjnie wyświetla zawartość katalogu w ustrukturyzowanym, hierarchicznym formacie."
   ]
  },
  {
   "cell_type": "code",
   "execution_count": null,
   "id": "a0334ca6-0cfa-4e88-84bf-952d274a3828",
   "metadata": {},
   "outputs": [],
   "source": [
    "    # directory and file tree\n",
    "    tree('UnzippedDataset')"
   ]
  },
  {
   "cell_type": "markdown",
   "id": "2dad7987-94fe-44bb-a5ab-e66acb0bbb26",
   "metadata": {},
   "source": [
    "### Zaprezentowanie przykładowej próbki nieuporządkowanych danych."
   ]
  },
  {
   "cell_type": "code",
   "execution_count": null,
   "id": "f5b68c4c-a1df-4a58-b9a5-3aa7300b5257",
   "metadata": {},
   "outputs": [],
   "source": [
    "def show_samples(image_directory: str) -> None:\n",
    "    \"\"\"\n",
    "    Randomly selects and displays ten .png images from a given directory.\n",
    "    Each image is resized to 300x300 pixels and shown in a 2-row, 5-column plot.\n",
    "\n",
    "    :param image_directory: str, The path to the directory containing image files.\n",
    "    :return: None\n",
    "    \"\"\"\n",
    "    all_files: list[str] = os.listdir(image_directory)\n",
    "    image_files: list[str] = [f for f in all_files if f.endswith('.png')]\n",
    "\n",
    "    if len(image_files) < 10:\n",
    "        print(\"Not enough images in the directory to display 10 samples.\")\n",
    "        return\n",
    "    \n",
    "    random_images: list[str] = random.sample(image_files, 10)\n",
    "\n",
    "    fig, axes = plt.subplots(2, 5, figsize=(15, 6))\n",
    "\n",
    "    axes = axes.ravel()\n",
    "\n",
    "    for ax, image_file in zip(axes, random_images):\n",
    "        image_path: str = os.path.join(image_directory, image_file)\n",
    "        img: np.ndarray = cv2.imread(image_path)\n",
    "\n",
    "        if img is not None:\n",
    "            img = cv2.cvtColor(img, cv2.COLOR_BGR2RGB)\n",
    "            img = cv2.resize(img, (300, 300))\n",
    "            ax.imshow(img)\n",
    "            ax.set_title(image_file, fontsize=10)\n",
    "            ax.axis('off')\n",
    "\n",
    "    plt.tight_layout()\n",
    "    plt.show()"
   ]
  },
  {
   "cell_type": "markdown",
   "id": "dc017337-ca7a-4489-9c23-b76bf75f3233",
   "metadata": {},
   "source": [
    "  - Metoda \"show_samples\":\n",
    "  \n",
    "        Losowo wybiera i wyświetla dziesięć obrazów .png z danego katalogu. Każdy obraz jest zmieniany na\n",
    "        300x300 pikseli i wyświetlany w matplotlib. Na ten moment zestaw danych jest bardzo \"zanieczyszczony\" i nadmiarowy.\n"
   ]
  },
  {
   "cell_type": "code",
   "execution_count": null,
   "id": "f530884d-3dc9-4289-b4fb-d0e08188a0d5",
   "metadata": {
    "scrolled": true
   },
   "outputs": [],
   "source": [
    "    # Show samples\n",
    "    show_samples('UnzippedDataset/Dataset/inspection/2024-10-31_15-09-15-335')"
   ]
  },
  {
   "cell_type": "markdown",
   "id": "54a273a7-f660-4435-ab97-0df994697198",
   "metadata": {},
   "source": [
    "### Uporządkowanie danych"
   ]
  },
  {
   "cell_type": "code",
   "execution_count": null,
   "id": "1141788a-c4d9-4c5f-8c2d-80ac245d5cd2",
   "metadata": {},
   "outputs": [],
   "source": [
    "def recognizer(image: str, image_id: int, margin: int = 7) -> None:\n",
    "    \"\"\"\n",
    "    Processes an image to identify the largest circular object, calculates its diameter and area,\n",
    "    and highlights void areas within a margin around the detected contour.\n",
    "\n",
    "    :param image: str, Path to the input image file.\n",
    "    :param image_id: int, Identifier for naming output files.\n",
    "    :param margin: int, Margin size for detection (default is 7 pixels).\n",
    "    \"\"\"\n",
    "    threshold = 110\n",
    "    image_path = image\n",
    "\n",
    "    img = Image.open(image)\n",
    "\n",
    "    if img.mode != 'RGB':\n",
    "        img = img.convert('RGB')\n",
    "\n",
    "    pixels = list(img.getdata())\n",
    "    new_pixels = [(0, 0, 0) if (p[0] if isinstance(p, tuple) else p) <= threshold else (255, 255, 255) for p in pixels]\n",
    "    new_img = Image.new('RGB', img.size)\n",
    "    new_img.putdata(new_pixels)\n",
    "    new_img.save(f'labeled/bitmapDiagnostics/{image_id}_bitmap.jpg')\n",
    "\n",
    "    binary_image = cv2.imread(f'labeled/bitmapDiagnostics/{image_id}_bitmap.jpg', cv2.IMREAD_GRAYSCALE)\n",
    "\n",
    "    edges = cv2.Canny(binary_image, 50, 150)\n",
    "    contours, _ = cv2.findContours(edges, cv2.RETR_EXTERNAL, cv2.CHAIN_APPROX_SIMPLE)\n",
    "\n",
    "    image_center = (binary_image.shape[1] // 2, binary_image.shape[0] // 2)\n",
    "    best_contour = min(\n",
    "        contours, key=lambda contour: cv2.pointPolygonTest(contour, image_center, True) ** 2, default=None\n",
    "    )\n",
    "\n",
    "    mask = np.zeros_like(binary_image)\n",
    "    diameter = 0\n",
    "\n",
    "    if best_contour is not None:\n",
    "        ((x, y), radius) = cv2.minEnclosingCircle(best_contour)\n",
    "        diameter = 2 * radius\n",
    "\n",
    "        cv2.circle(mask, (int(x), int(y)), int(radius), 255, thickness=-1)\n",
    "\n",
    "        kernel = np.ones((margin, margin), np.uint8)\n",
    "        mask_with_margin = cv2.erode(mask, kernel, iterations=1)\n",
    "\n",
    "        output_image = cv2.cvtColor(binary_image, cv2.COLOR_GRAY2BGR)\n",
    "        cv2.drawContours(output_image, [best_contour], -1, (255, 0, 0), 2)\n",
    "\n",
    "    else:\n",
    "        output_image = cv2.cvtColor(binary_image, cv2.COLOR_GRAY2BGR)\n",
    "\n",
    "    white_pixel_mask = (binary_image >= 200) & (mask_with_margin == 255) if best_contour is not None else None\n",
    "    white_pixel_count = np.count_nonzero(white_pixel_mask) if white_pixel_mask is not None else 0\n",
    "\n",
    "    if white_pixel_mask is not None:\n",
    "        output_image[white_pixel_mask] = [0, 255, 255]\n",
    "\n",
    "    plt.figure(figsize=(2, 2))\n",
    "    plt.imshow(cv2.cvtColor(output_image, cv2.COLOR_BGR2RGB))\n",
    "    plt.title(f'Detected Object with Diameter: {diameter:.2f} pixels')\n",
    "    plt.axis('off')\n",
    "    mask_plot_path = f\"labeled/bitmapDiagnostics/{image_id}_edge_plot.png\"\n",
    "    plt.savefig(mask_plot_path, bbox_inches='tight', dpi=300)\n",
    "    #plt.show()\n",
    "    plt.close('all')\n",
    "\n",
    "    plt.figure(figsize=(2, 2))\n",
    "    plt.imshow(cv2.cvtColor(output_image, cv2.COLOR_BGR2RGB))\n",
    "    plt.title(f'Detected Object with Diameter: {diameter:.2f} pixels')\n",
    "    plt.axis('off')\n",
    "    plt.text(\n",
    "        10, 30, f'Void Area: {white_pixel_count} px', color='red', fontsize=14,\n",
    "        bbox=dict(facecolor='white', alpha=0.8)\n",
    "    )\n",
    "    void_plot_path = f\"labeled/bitmapDiagnostics/{image_id}_void_plot.png\"\n",
    "    plt.savefig(void_plot_path, bbox_inches='tight', dpi=300)\n",
    "    plt.show()\n",
    "    plt.close('all')\n",
    "\n",
    "    circle_area = np.pi * (radius ** 2) if best_contour is not None else 0\n",
    "    print(f'Diameter: {diameter:.2f} px')\n",
    "    print(f'Circle Area: {circle_area:.2f} px²')\n",
    "    print(f'Void Area (White Pixels): {white_pixel_count} px²')\n",
    "\n",
    "    status: bool = False\n",
    "    if white_pixel_count > 15:\n",
    "        shutil.copyfile(image_path, f'labeled/fail/{image_id}_ball.png')\n",
    "        print(\"Directory: Fail\")\n",
    "        status = False\n",
    "    else:\n",
    "        shutil.copyfile(image_path, f'labeled/pass/{image_id}_ball.png')\n",
    "        print(\"Directory: Pass\")\n",
    "        status = True\n",
    "\n",
    "    with open(\"SolderBallsSize.csv\", mode=\"a\", newline=\"\", encoding=\"utf-8\") as file:\n",
    "        writer = csv.writer(file)\n",
    "        writer.writerow([diameter, circle_area, white_pixel_count, status])\n"
   ]
  },
  {
   "cell_type": "markdown",
   "id": "5d15c404-c184-441a-9f4d-27a9a6b79028",
   "metadata": {},
   "source": [
    "  - Metoda \"recognizer\":\n",
    "\n",
    "        Przetwarza obraz w celu zidentyfikowania największego okrągłego obiektu, \n",
    "        oblicza jego średnicę i powierzchnię oraz podświetla puste obszary w obrębie marginesu wokół wykrytego konturu.\n",
    "        Funkcja zostaje wywołana w pętli 'for' w celu odseparowanie zdjęć z defektem i bez defektu. \n",
    "        Dodatkowo w katalogu 'bitmapDiagnostics' umieszczone zostają pliki diagnostyczne.\n"
   ]
  },
  {
   "cell_type": "code",
   "execution_count": null,
   "id": "7658fa61-2e07-4f72-b27d-c8d03412986d",
   "metadata": {},
   "outputs": [],
   "source": [
    "\n",
    "    i: int = 0\n",
    "    for root, _, files in os.walk('UnzippedDataset\\\\Dataset\\\\inspection'):\n",
    "        for file in files:\n",
    "            if file.endswith('_48_48_4.png'):\n",
    "                print(f\"Path: {os.path.join(root, file)}\")\n",
    "                print(f\"Index: {i}\")\n",
    "                recognizer(os.path.join(root, file), i)\n",
    "            i += 1"
   ]
  },
  {
   "cell_type": "code",
   "execution_count": null,
   "id": "e70ac98d-5031-40b3-94ca-4f54826fca8b",
   "metadata": {},
   "outputs": [],
   "source": [
    "# Show samples\n",
    "print(\"\\nPass directory:\")\n",
    "show_samples('labeled/pass')\n",
    "print(\"\\nFail directory:\")\n",
    "show_samples('labeled/fail')\n",
    "    "
   ]
  },
  {
   "cell_type": "markdown",
   "id": "16b72b0f-0e29-464c-b655-9fbd64bbc5e2",
   "metadata": {},
   "source": [
    "### Analiza danych"
   ]
  },
  {
   "cell_type": "code",
   "execution_count": null,
   "id": "3e9a02cd-6c79-4bd3-b6fe-d0d02e87b503",
   "metadata": {},
   "outputs": [],
   "source": [
    "column_names = [\"BallDiameter [px]\", \"BallArea [px]\", \"VoidArea [px]\", \"Status [bool]\"]\n",
    "df = pd.read_csv(\"SolderBallsSize.csv\", header=None, names=column_names, encoding=\"utf-8\")\n",
    "df.tail()"
   ]
  },
  {
   "cell_type": "markdown",
   "id": "cbfa4d39-0b71-402f-a03d-c7cc4d2cbe3e",
   "metadata": {},
   "source": [
    "Wydzielamy pierwsze 1000 etykiet klasy odpowiadających statusom True oraz False i przekształcamy je w dwie kategorie symbolizowane liczbami całkowitymi: 1 (True) i -1 (False), które przypisujemy do wektora y.\n",
    "\n",
    "Następnie, ze zbioru 1000 przykładów uczących wydzielamy drugą kolumnę cech (BallArea) oraz trzecią kolumnę (VoidArea), a uzyskane wartości przypisujemy do macierzy cech X. Tak skonstruowane dane możemy zwizualizować jako dwuwymiarowy wykres punktowy."
   ]
  },
  {
   "cell_type": "code",
   "execution_count": null,
   "id": "ef6485e3-169f-4704-adb8-31941bd8a915",
   "metadata": {},
   "outputs": [],
   "source": [
    "df_sample = df.iloc[:1000]\n",
    "\n",
    "X = df_sample[[\"BallArea [px]\", \"VoidArea [px]\"]].values\n",
    "y = np.where(df_sample[\"Status [bool]\"] == True, 1, -1)\n",
    "\n",
    "plt.figure(figsize=(8, 6))\n",
    "plt.scatter(X[y == 1, 0], X[y == 1, 1], color='red', marker='o', label='True')\n",
    "plt.scatter(X[y == -1, 0], X[y == -1, 1], color='blue', marker='x', label='False')\n",
    "\n",
    "plt.xlabel(\"BallArea [px]\")\n",
    "plt.ylabel(\"VoidArea [px]\")\n",
    "plt.legend(loc=\"upper left\")\n",
    "plt.title(\"Scatter plot of BallArea vs. VoidArea\")\n",
    "\n",
    "plt.show()"
   ]
  },
  {
   "cell_type": "markdown",
   "id": "b73077be-d72b-4c50-9416-086d4a05492c",
   "metadata": {},
   "source": [
    "### Klasa \"Perceptron\" Rosenblatta"
   ]
  },
  {
   "cell_type": "code",
   "execution_count": null,
   "id": "03b82952-de69-47db-b34f-07f716c9f698",
   "metadata": {},
   "outputs": [],
   "source": [
    "class Perceptron(object):\n",
    "    \"\"\"\n",
    "    Perceptron classifier.\n",
    "    \n",
    "    :param eta: float, Learning rate (between 0.0 and 1.0)\n",
    "    :param n_iter: int, Passes over the training dataset.\n",
    "    :param random_state: int, Random number generator seed for random weight initialization.\n",
    "\n",
    "    :attr w_: 1d-array, Weights after fitting.\n",
    "    :attr errors_: list, Number of misclassifications (updates) in each epoch.\n",
    "\n",
    "    \"\"\"\n",
    "    def __init__(self, eta=0.01, n_iter=50, random_state=1):\n",
    "        self.eta = eta\n",
    "        self.n_iter = n_iter\n",
    "        self.random_state = random_state\n",
    "\n",
    "    def fit(self, X, y):\n",
    "        \"\"\"\n",
    "        Fit training data.\n",
    "\n",
    "        :param X: {array-like}, shape = [n_examples, n_features] Training vectors, where n_examples is the number of examples and n_features is the number of features.\n",
    "        :param y: array-like, shape = [n_examples] Target values.\n",
    "\n",
    "        :return self: object\n",
    "\n",
    "        \"\"\"\n",
    "        rgen = np.random.RandomState(self.random_state)\n",
    "        self.w_ = rgen.normal(loc=0.0, scale=0.01, size=1 + X.shape[1])\n",
    "        self.errors_ = []\n",
    "\n",
    "        for _ in range(self.n_iter):\n",
    "            errors = 0\n",
    "            for xi, target in zip(X, y):\n",
    "                update = self.eta * (target - self.predict(xi))\n",
    "                self.w_[1:] += update * xi\n",
    "                self.w_[0] += update\n",
    "                errors += int(update != 0.0)\n",
    "            self.errors_.append(errors)\n",
    "        return self\n",
    "\n",
    "    def net_input(self, X):\n",
    "        \"\"\"Calculate net input\"\"\"\n",
    "        return np.dot(X, self.w_[1:]) + self.w_[0]\n",
    "\n",
    "    def predict(self, X):\n",
    "        \"\"\"Return class label after unit step\"\"\"\n",
    "        return np.where(self.net_input(X) >= 0.0, 1, -1)"
   ]
  },
  {
   "cell_type": "markdown",
   "id": "fc588e47-e474-4f68-a44d-80b7c2de1e1f",
   "metadata": {},
   "source": [
    "Pierwotna reguła uczenia perceptronu, opracowana przez Rosenblatta, przedstawia się następująco i można ją opisać w kilku etapach:\n",
    "\n",
    "1. Ustaw wagi na 0 lub niewielkie, losowe wartości.\n",
    "2. Dla każdego przykładu uczącego 𝑥:\n",
    "     - Oblicz wartość wyjściową y.\n",
    "     - Zaktualizuj wagi.\n",
    "\n",
    "<img src=\"https://github.com/Mat3u52/BallGridArrayDefectDetectionByML/blob/main/examples/perceptron.jpg?raw=true\" alt=\"perceptron\" width=\"800\" >"
   ]
  },
  {
   "cell_type": "code",
   "execution_count": null,
   "id": "8fe32ad9-2393-4e95-9dea-721bbce53181",
   "metadata": {},
   "outputs": [],
   "source": [
    "ppn = Perceptron(eta=0.1, n_iter=10)\n",
    "ppn.fit(X,y)\n",
    "plt.plot(range(1, len(ppn.errors_)+1), ppn.errors_, marker='o')\n",
    "plt.xlabel('Epoki')\n",
    "plt.ylabel('Liczba aktualizacji')\n",
    "plt.show()"
   ]
  },
  {
   "cell_type": "markdown",
   "id": "0dae848b-c2f7-44bb-b57d-e4de9db2902a",
   "metadata": {},
   "source": [
    "Zmniejszenie liczby aktualizacji: Na początku liczba aktualizacji jest wysoka (ponad 30), ale szybko maleje w kolejnych epokach. Oznacza to, że model stopniowo uczy się lepiej klasyfikować dane, co zmniejsza potrzebę aktualizacji wag.\n",
    "\n",
    "Stabilizacja: Po kilku epokach (około 7-10) liczba aktualizacji osiąga zero. To wskazuje, że model nauczył się poprawnie klasyfikować wszystkie próbki w zbiorze treningowym (dla danych liniowo separowalnych).\n",
    "\n",
    "Efektywność uczenia: Szybkie zmniejszenie liczby błędów na początku oznacza, że przyjęta wartość współczynnika uczenia (eta=0.1) oraz liczba epok (n_iter=10) są odpowiednie dla tego problemu.\n",
    "\n",
    "Dane liniowo separowalne: Ponieważ liczba błędów osiąga zero, można przypuszczać, że zbiór danych jest liniowo separowalny."
   ]
  },
  {
   "cell_type": "code",
   "execution_count": null,
   "id": "e03c2809-ef0f-428d-9826-2cb14992d55d",
   "metadata": {},
   "outputs": [],
   "source": [
    "def plot_decision_regions(X, y, classifier, resolution=0.02):\n",
    "\n",
    "    # setup marker generator and color map\n",
    "    markers = ('s', 'o', 'o', '^', 'v')\n",
    "    colors = ('red', 'blue', 'lightgreen', 'gray', 'cyan')\n",
    "    cmap = ListedColormap(colors[:len(np.unique(y))])\n",
    "\n",
    "    # plot the decision surface\n",
    "    x1_min, x1_max = X[:, 0].min() - 1, X[:, 0].max() + 1\n",
    "    x2_min, x2_max = X[:, 1].min() - 1, X[:, 1].max() + 1\n",
    "    xx1, xx2 = np.meshgrid(np.arange(x1_min, x1_max, resolution),\n",
    "                           np.arange(x2_min, x2_max, resolution))\n",
    "    Z = classifier.predict(np.array([xx1.ravel(), xx2.ravel()]).T)\n",
    "    Z = Z.reshape(xx1.shape)\n",
    "    plt.contourf(xx1, xx2, Z, alpha=0.3, cmap=cmap)\n",
    "    plt.xlim(xx1.min(), xx1.max())\n",
    "    plt.ylim(xx2.min(), xx2.max())\n",
    "\n",
    "    # plot class examples\n",
    "    for idx, cl in enumerate(np.unique(y)):\n",
    "        plt.scatter(x=X[y == cl, 0], \n",
    "                    y=X[y == cl, 1],\n",
    "                    alpha=0.8, \n",
    "                    c=colors[idx],\n",
    "                    marker=markers[idx], \n",
    "                    label=cl) \n",
    "                    #edgecolor='black')"
   ]
  },
  {
   "cell_type": "markdown",
   "id": "86720d8f-f34c-4956-889f-5175fea7bc7a",
   "metadata": {},
   "source": [
    "Najpierw definiujemy liczbę barw (colors) i znaczników (markers), a następnie tworzymy mapę kolorów z listy barw za pomocą klasy ListedColormap. Następnie określamy minimalne i maksymalne wartości dwóch cech, które wykorzystujemy do wygenerowania siatki współrzędnych, tworząc tablice xx1 i xx2 za pomocą funkcji meshgrid.\n",
    "\n",
    "Ponieważ klasyfikator został wytrenowany na dwóch wymiarach cech, konieczna jest modyfikacja tablic xx1 i xx2 oraz utworzenie macierzy o takiej samej liczbie kolumn, jak zbiór uczący. Dzięki temu możemy zastosować metodę predict do przewidywania etykiet klas dla poszczególnych elementów siatki."
   ]
  },
  {
   "cell_type": "markdown",
   "id": "68219a27-d84c-4b2a-9bf6-943e507f9081",
   "metadata": {},
   "source": [
    "### Wykres regionów decyzyjnych"
   ]
  },
  {
   "cell_type": "code",
   "execution_count": null,
   "id": "dcbfd82e-f005-432b-a599-ffc8ca386f3e",
   "metadata": {},
   "outputs": [],
   "source": [
    "plot_decision_regions(X, y, classifier=ppn)\n",
    "plt.xlabel(\"BallArea [px]\")\n",
    "plt.ylabel(\"VoidArea [px]\")\n",
    "plt.legend(loc='upper left')\n",
    "plt.show()"
   ]
  },
  {
   "cell_type": "code",
   "execution_count": null,
   "id": "2d88f1b1-c8df-4d70-9867-dd1f7a6ac62f",
   "metadata": {},
   "outputs": [],
   "source": []
  },
  {
   "cell_type": "code",
   "execution_count": null,
   "id": "9f047885-a638-43f0-b565-78966af1a8c9",
   "metadata": {},
   "outputs": [],
   "source": []
  }
 ],
 "metadata": {
  "kernelspec": {
   "display_name": "Python 3 (ipykernel)",
   "language": "python",
   "name": "python3"
  },
  "language_info": {
   "codemirror_mode": {
    "name": "ipython",
    "version": 3
   },
   "file_extension": ".py",
   "mimetype": "text/x-python",
   "name": "python",
   "nbconvert_exporter": "python",
   "pygments_lexer": "ipython3",
   "version": "3.12.7"
  }
 },
 "nbformat": 4,
 "nbformat_minor": 5
}
